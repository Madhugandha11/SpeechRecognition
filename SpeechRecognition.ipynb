{
  "nbformat": 4,
  "nbformat_minor": 0,
  "metadata": {
    "colab": {
      "provenance": [],
      "collapsed_sections": [],
      "mount_file_id": "1MZzd_EXjEdgKE7W_JNrn66uicUmBG44B",
      "authorship_tag": "ABX9TyOqB7X4LzouEN7MSJWmE7eb",
      "include_colab_link": true
    },
    "kernelspec": {
      "name": "python3",
      "display_name": "Python 3"
    },
    "language_info": {
      "name": "python"
    }
  },
  "cells": [
    {
      "cell_type": "markdown",
      "metadata": {
        "id": "view-in-github",
        "colab_type": "text"
      },
      "source": [
        "<a href=\"https://colab.research.google.com/github/Madhugandha11/SpeechRecognition/blob/main/SpeechRecognition.ipynb\" target=\"_parent\"><img src=\"https://colab.research.google.com/assets/colab-badge.svg\" alt=\"Open In Colab\"/></a>"
      ]
    },
    {
      "cell_type": "code",
      "source": [
        "#Using AssemblyAI to transcribe audio\n",
        "API_KEY_ASSEMBLYAI = \"f98ac765b67d48e6b2eedbfda7afc29e\""
      ],
      "metadata": {
        "id": "Suiz0wxd6l9_"
      },
      "execution_count": null,
      "outputs": []
    },
    {
      "cell_type": "code",
      "execution_count": null,
      "metadata": {
        "id": "k9ZqpaGcwvaB"
      },
      "outputs": [],
      "source": [
        "import requests\n",
        "filename = \"/content/the_dog_story.m4a\" #Audio to be transcribed\n",
        "\n",
        "upload_endpoint = 'https://api.assemblyai.com/v2/upload'\n",
        "transcript_endpoint = \"https://api.assemblyai.com/v2/transcript\"\n",
        "\n",
        "headers = {'authorization':API_KEY_ASSEMBLYAI }\n",
        "#hearders here are used for authentication\n",
        "\n",
        "#Uploading Local File for Trancription\n",
        "def upload(filename):\n",
        "  #Function to read the audiofile. Assembly AI reads files in chunks. Here, a chunk is pf 5242880 bytes.\n",
        "  def read_file(filename, chunk_size=5242880): \n",
        "            with open(filename, 'rb') as _file:\n",
        "                while True:\n",
        "                    data = _file.read(chunk_size)\n",
        "                    if not data:\n",
        "                        break\n",
        "                    yield data\n",
        "\n",
        "        \n",
        "  upload_response = requests.post(upload_endpoint,\n",
        "                                headers=headers,\n",
        "                                data=read_file(filename))\n",
        "\n",
        "     \n",
        "\n",
        "  audio_url = upload_response.json()['upload_url'] #Uploaded the file on Assembly AI.\n",
        "  return(audio_url)\n",
        "\n",
        "        "
      ]
    },
    {
      "cell_type": "code",
      "source": [
        "#Trnacripting the audio file\n",
        "\n",
        "def transcribe(audio_url ):\n",
        "  transcript_request = { \"audio_url\": audio_url , \"disfluencies\": True}\n",
        "  #Disfluencies here is used to include Filler words in our text. \n",
        "\n",
        "  transcript_response = requests.post(transcript_endpoint, json=transcript_request, headers=headers)\n",
        "  \n",
        "  job_id = transcript_response.json()['id']\n",
        "  return job_id\n"
      ],
      "metadata": {
        "id": "FtPiIyPr8Qst"
      },
      "execution_count": null,
      "outputs": []
    },
    {
      "cell_type": "code",
      "source": [
        "#Poll the Assembly AI to know if the trannscription is completed or in progress.\n",
        "\n",
        "def poll(transcript_id):\n",
        "    polling_endpoint = transcript_endpoint + '/' + transcript_id #url through which we will ask Assembly Ai the status\n",
        "    polling_response = requests.get(polling_endpoint, headers=headers)\n",
        "    return polling_response.json()\n"
      ],
      "metadata": {
        "id": "uTV9qiwcAB49"
      },
      "execution_count": null,
      "outputs": []
    },
    {
      "cell_type": "code",
      "source": [
        "def get_transcription_result_url(url):\n",
        "    transcribe_id = transcribe(url)\n",
        "    while True:\n",
        "        data = poll(transcribe_id)\n",
        "        if data['status'] == 'completed': #Checking the status of Transcription\n",
        "            return data, None\n",
        "        elif data['status'] == 'error': #Checking if there is an error or not\n",
        "            return data, data['error']\n",
        "            \n",
        "        "
      ],
      "metadata": {
        "id": "YjcfPkEzBW28"
      },
      "execution_count": null,
      "outputs": []
    },
    {
      "cell_type": "code",
      "source": [
        "def save_transcript(url,filename):\n",
        "    data, error = get_transcription_result_url(url)\n",
        "    \n",
        "    if data:\n",
        "        filename = filename + '.txt'\n",
        "        with open(filename, 'w') as f:\n",
        "            f.write(data['text'])\n",
        "        \n",
        "        print('Transcript saved')\n",
        "    elif error:\n",
        "        print(\"Error!!!\", error)"
      ],
      "metadata": {
        "id": "mZFTzqWZEBJ9"
      },
      "execution_count": null,
      "outputs": []
    },
    {
      "cell_type": "code",
      "source": [
        "audio_url = upload(filename)\n",
        "save_transcript(audio_url, filename)"
      ],
      "metadata": {
        "id": "5W-qJrOBEFuP"
      },
      "execution_count": null,
      "outputs": []
    },
    {
      "cell_type": "code",
      "source": [
        "file = \"/content/the_dog_story.m4a\"\n",
        "content = open(file, \"r\")\n",
        "\n",
        "\n",
        "FileContent = content.read()\n",
        "print(FileContent)"
      ],
      "metadata": {
        "id": "6tVWPzIkbdlb"
      },
      "execution_count": null,
      "outputs": []
    },
    {
      "cell_type": "code",
      "source": [
        "filler_word = ['uh', 'um', 'uhuh', 'hmm' ,'mhm']\n",
        "list_of_filler_words_used=[]\n",
        "\n",
        "\n",
        "with open(\"internship.m4a.txt\", \"r\") as file:\n",
        "    for line_number, line in enumerate(file, start=1):  \n",
        "      for i in filler_word:\n",
        "        if i in line:\n",
        "          list_of_filler_words_used.append(i)\n",
        "          \n",
        "          \n",
        "print(list_of_filler_words_used)\n",
        "        "
      ],
      "metadata": {
        "id": "hLl9Ux-1dROG",
        "colab": {
          "base_uri": "https://localhost:8080/"
        },
        "outputId": "440a7235-2284-4b65-99e4-3bea840c43e2"
      },
      "execution_count": null,
      "outputs": [
        {
          "output_type": "stream",
          "name": "stdout",
          "text": [
            "['uh', 'um']\n"
          ]
        }
      ]
    }
  ]
}